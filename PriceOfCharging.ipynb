{
  "nbformat": 4,
  "nbformat_minor": 0,
  "metadata": {
    "colab": {
      "name": "PriceOfCharging.ipynb",
      "provenance": [],
      "authorship_tag": "ABX9TyMLE7GNwJfiE4HiK5tg0pMO",
      "include_colab_link": true
    },
    "kernelspec": {
      "name": "python3",
      "display_name": "Python 3"
    },
    "language_info": {
      "name": "python"
    }
  },
  "cells": [
    {
      "cell_type": "markdown",
      "metadata": {
        "id": "view-in-github",
        "colab_type": "text"
      },
      "source": [
        "<a href=\"https://colab.research.google.com/github/vchai03/Math-Modelling/blob/main/PriceOfCharging.ipynb\" target=\"_parent\"><img src=\"https://colab.research.google.com/assets/colab-badge.svg\" alt=\"Open In Colab\"/></a>"
      ]
    },
    {
      "cell_type": "code",
      "metadata": {
        "colab": {
          "base_uri": "https://localhost:8080/"
        },
        "id": "ZZO00bmECkVm",
        "outputId": "c2bd9cf0-096b-4f03-ac34-70662090477c"
      },
      "source": [
        "from google.colab import drive\n",
        "drive.mount('/content/drive')\n",
        "import pandas as pd, numpy as np"
      ],
      "execution_count": null,
      "outputs": [
        {
          "output_type": "stream",
          "name": "stdout",
          "text": [
            "Mounted at /content/drive\n"
          ]
        }
      ]
    },
    {
      "cell_type": "code",
      "metadata": {
        "colab": {
          "base_uri": "https://localhost:8080/",
          "height": 282
        },
        "id": "hx-uSk7_C4Fy",
        "outputId": "f078035f-ce84-4d2e-ee9c-77257d3972fb"
      },
      "source": [
        "df=pd.read_csv(\"/content/drive/My Drive/Modeling/Price of Charging.csv\")\n",
        "\n",
        "import matplotlib.pyplot as plt\n",
        "from sklearn.linear_model import LinearRegression\n",
        "\n",
        "regressor = LinearRegression()\n",
        "X = df['Years'].values.reshape(-1,1)\n",
        "Y = df['Price ($/mile)'].values.reshape(-1,1)\n",
        "regressor.fit(X,Y)\n",
        "\n",
        "X_future = []\n",
        "\n",
        "for x in range(2008,2041):\n",
        "  X_future = np.append(X_future,x)\n",
        "X_future = X_future.reshape(-1,1)\n",
        "\n",
        "Y_future = regressor.predict(X_future)\n",
        "\n",
        "plt.scatter(X, Y, color='black')\n",
        "plt.plot(X_future, Y_future, color='blue', linewidth=3)"
      ],
      "execution_count": null,
      "outputs": [
        {
          "output_type": "execute_result",
          "data": {
            "text/plain": [
              "[<matplotlib.lines.Line2D at 0x7f587ccb0990>]"
            ]
          },
          "metadata": {},
          "execution_count": 2
        },
        {
          "output_type": "display_data",
          "data": {
            "image/png": "[encoded data removed]",
            "text/plain": [
              "<Figure size 432x288 with 1 Axes>"
            ]
          },
          "metadata": {
            "needs_background": "light"
          }
        }
      ]
    }
  ]
}