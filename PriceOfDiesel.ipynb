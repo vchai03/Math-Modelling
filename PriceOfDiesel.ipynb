{
  "nbformat": 4,
  "nbformat_minor": 0,
  "metadata": {
    "colab": {
      "name": "PriceOfDiesel.ipynb",
      "provenance": [],
      "collapsed_sections": [],
      "mount_file_id": "1XlkLPWtLQOoVG7pl7hIJfhVJ83qAfyFI",
      "authorship_tag": "ABX9TyN3gIwpaF5uiP1fp+f2oyDj",
      "include_colab_link": true
    },
    "kernelspec": {
      "name": "python3",
      "display_name": "Python 3"
    }
  },
  "cells": [
    {
      "cell_type": "markdown",
      "metadata": {
        "id": "view-in-github",
        "colab_type": "text"
      },
      "source": [
        "<a href=\"https://colab.research.google.com/github/vchai03/Math-Modelling/blob/main/PriceOfDiesel.ipynb\" target=\"_parent\"><img src=\"https://colab.research.google.com/assets/colab-badge.svg\" alt=\"Open In Colab\"/></a>"
      ]
    },
    {
      "cell_type": "code",
      "metadata": {
        "id": "flwwbWSy_0YX",
        "colab": {
          "base_uri": "https://localhost:8080/",
          "height": 34
        },
        "outputId": "0ec42891-024a-43c4-d7c9-a1e12eed7139"
      },
      "source": [
        "from google.colab import drive\n",
        "drive.mount('/content/drive')\n",
        "import pandas as pd, numpy as np"
      ],
      "execution_count": null,
      "outputs": [
        {
          "output_type": "stream",
          "text": [
            "Drive already mounted at /content/drive; to attempt to forcibly remount, call drive.mount(\"/content/drive\", force_remount=True).\n"
          ],
          "name": "stdout"
        }
      ]
    },
    {
      "cell_type": "code",
      "metadata": {
        "id": "8SqibvCwAEqb",
        "colab": {
          "base_uri": "https://localhost:8080/",
          "height": 283
        },
        "outputId": "4c82c960-aeef-4642-d8f3-47d9c46e609d"
      },
      "source": [
        "df=pd.read_csv(\"/content/drive/My Drive/Modeling/Price of Diesel.csv\")\n",
        "\n",
        "import matplotlib.pyplot as plt\n",
        "from sklearn.linear_model import LinearRegression\n",
        "\n",
        "regressor = LinearRegression()\n",
        "X = df['Years'].values.reshape(-1,1)\n",
        "Y = df['Price ($/mile)'].values.reshape(-1,1)\n",
        "regressor.fit(X,Y)\n",
        "\n",
        "X_future = []\n",
        "\n",
        "for x in range(2008,2041):\n",
        "  X_future = np.append(X_future,x)\n",
        "X_future = X_future.reshape(-1,1)\n",
        "\n",
        "Y_future = regressor.predict(X_future)\n",
        "\n",
        "plt.scatter(X, Y,  color='black')\n",
        "plt.plot(X_future, Y_future, color='blue', linewidth=3)\n"
      ],
      "execution_count": null,
      "outputs": [
        {
          "output_type": "execute_result",
          "data": {
            "text/plain": [
              "[<matplotlib.lines.Line2D at 0x7f35651137b8>]"
            ]
          },
          "metadata": {
            "tags": []
          },
          "execution_count": 27
        },
        {
          "output_type": "display_data",
          "data": {
            "image/png": "[encoded data removed]",
            "text/plain": [
              "<Figure size 432x288 with 1 Axes>"
            ]
          },
          "metadata": {
            "tags": []
          }
        }
      ]
    },
    {
      "cell_type": "code",
      "metadata": {
        "id": "rtP3_N8wNeqx",
        "colab": {
          "base_uri": "https://localhost:8080/",
          "height": 561
        },
        "outputId": "8eeac30a-2006-4e61-d8b7-85ce6c1f7d3b"
      },
      "source": [
        "for i in range(17,33):\n",
        "\n",
        "  print(X_future[i])\n",
        "  print(Y_future[i])"
      ],
      "execution_count": null,
      "outputs": [
        {
          "output_type": "stream",
          "text": [
            "[2025.]\n",
            "[3739764.15384615]\n",
            "[2026.]\n",
            "[3771989.66483516]\n",
            "[2027.]\n",
            "[3804215.17582417]\n",
            "[2028.]\n",
            "[3836440.68681318]\n",
            "[2029.]\n",
            "[3868666.19780219]\n",
            "[2030.]\n",
            "[3900891.7087912]\n",
            "[2031.]\n",
            "[3933117.21978022]\n",
            "[2032.]\n",
            "[3965342.73076923]\n",
            "[2033.]\n",
            "[3997568.24175824]\n",
            "[2034.]\n",
            "[4029793.75274725]\n",
            "[2035.]\n",
            "[4062019.26373626]\n",
            "[2036.]\n",
            "[4094244.77472527]\n",
            "[2037.]\n",
            "[4126470.28571428]\n",
            "[2038.]\n",
            "[4158695.79670329]\n",
            "[2039.]\n",
            "[4190921.3076923]\n",
            "[2040.]\n",
            "[4223146.81868131]\n"
          ],
          "name": "stdout"
        }
      ]
    }
  ]
}