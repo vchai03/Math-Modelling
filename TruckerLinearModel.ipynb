{
  "nbformat": 4,
  "nbformat_minor": 0,
  "metadata": {
    "colab": {
      "name": "TruckerLinearModel.ipynb",
      "provenance": [],
      "authorship_tag": "ABX9TyPoNVNNShpq4ahoMUBeD6tR",
      "include_colab_link": true
    },
    "kernelspec": {
      "name": "python3",
      "display_name": "Python 3"
    },
    "language_info": {
      "name": "python"
    }
  },
  "cells": [
    {
      "cell_type": "markdown",
      "metadata": {
        "id": "view-in-github",
        "colab_type": "text"
      },
      "source": [
        "<a href=\"https://colab.research.google.com/github/vchai03/Math-Modelling/blob/main/TruckerLinearModel.ipynb\" target=\"_parent\"><img src=\"https://colab.research.google.com/assets/colab-badge.svg\" alt=\"Open In Colab\"/></a>"
      ]
    },
    {
      "cell_type": "code",
      "metadata": {
        "colab": {
          "base_uri": "https://localhost:8080/"
        },
        "id": "eFQ0I_cPEoYv",
        "outputId": "c1eb5f54-567e-4670-a8c3-404149fe6a5e"
      },
      "source": [
        "from google.colab import drive\n",
        "drive.mount('/content/drive')\n",
        "import pandas as pd, numpy as np"
      ],
      "execution_count": null,
      "outputs": [
        {
          "output_type": "stream",
          "name": "stdout",
          "text": [
            "Mounted at /content/drive\n"
          ]
        }
      ]
    },
    {
      "cell_type": "code",
      "metadata": {
        "colab": {
          "base_uri": "https://localhost:8080/",
          "height": 293
        },
        "id": "uM0XmlI-E8XD",
        "outputId": "370d0fa3-915a-4e00-8c0f-fc34086c42e9"
      },
      "source": [
        "df=pd.read_csv(\"/content/drive/My Drive/Modeling/Number of Truckers (2005-2017).csv\")\n",
        "\n",
        "import matplotlib.pyplot as plt\n",
        "from sklearn.linear_model import LinearRegression\n",
        "\n",
        "regressor = LinearRegression()\n",
        "X = df['Year'].values.reshape(-1,1)\n",
        "Y = df['Total'].values.reshape(-1,1)\n",
        "regressor.fit(X,Y)\n",
        "\n",
        "X_future = []\n",
        "\n",
        "for x in range(2005,2041):\n",
        "  X_future = np.append(X_future,x)\n",
        "X_future = X_future.reshape(-1,1)\n",
        "\n",
        "Y_future = regressor.predict(X_future)\n",
        "\n",
        "plt.scatter(X, Y, color='black')\n",
        "plt.plot(X_future, Y_future, color='blue', linewidth=3)"
      ],
      "execution_count": null,
      "outputs": [
        {
          "output_type": "execute_result",
          "data": {
            "text/plain": [
              "[<matplotlib.lines.Line2D at 0x7fd4de3d6890>]"
            ]
          },
          "metadata": {},
          "execution_count": 2
        },
        {
          "output_type": "display_data",
          "data": {
            "image/png": "[encoded data removed]",
            "text/plain": [
              "<Figure size 432x288 with 1 Axes>"
            ]
          },
          "metadata": {
            "needs_background": "light"
          }
        }
      ]
    }
  ]
}